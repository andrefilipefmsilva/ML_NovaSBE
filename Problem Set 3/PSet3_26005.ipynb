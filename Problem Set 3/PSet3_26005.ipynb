{
 "cells": [
  {
   "cell_type": "markdown",
   "metadata": {},
   "source": [
    "# Machine Learning Homework 3"
   ]
  },
  {
   "cell_type": "markdown",
   "metadata": {},
   "source": [
    "## Instructions"
   ]
  },
  {
   "cell_type": "markdown",
   "metadata": {},
   "source": [
    "**Completing the homework:**  Follow along with the text and code in the notebook from start to finish.  There are two parts and 5 graded questions, worth a total of 5 points.  While some code is provided for you in the notebook, there are two types of work left for you:\n",
    "- **Tasks:** This work is meant to help you better understand the course material an will help you answer the questions.  Importantly, this work is not graded.  Tt is optional, but highly recommended.\n",
    "- **Questions:** These are the questions you need to answer and that are graded.\n",
    "    \n",
    "**How to turn in the homework**:  You need to make **two different Moodle submissions**.  First, you must open the Moodle Homework 3 Answers resources and answer the questions exactly how they correspond to those found in the Notebook.  Second, you must upload your notebook to the Moodle Homework 3 Notebook Upload.\n",
    "\n",
    "This homework is due **before class on Monday, May 10.**"
   ]
  },
  {
   "cell_type": "markdown",
   "metadata": {},
   "source": [
    "## Imports\n",
    "\n",
    "Below are the all the imports you will need to complete the homework.  You may use additional libraries if you desire, but they should not be needed."
   ]
  },
  {
   "cell_type": "code",
   "execution_count": 1,
   "metadata": {},
   "outputs": [],
   "source": [
    "import pandas as pd\n",
    "import numpy as np\n",
    "import seaborn as sns\n",
    "\n",
    "from sklearn import tree\n",
    "from sklearn.model_selection import train_test_split\n",
    "from sklearn.linear_model import LogisticRegression\n",
    "from sklearn.tree import DecisionTreeClassifier\n",
    "from sklearn.metrics import mean_squared_error, confusion_matrix, accuracy_score, roc_auc_score, precision_score, recall_score, f1_score, roc_curve, auc\n",
    "from sklearn.preprocessing import StandardScaler\n",
    "from sklearn.ensemble import RandomForestClassifier\n",
    "\n",
    "import pandas as pd\n",
    "import seaborn as sns\n",
    "from aequitas.group import Group\n",
    "from aequitas.bias import Bias\n",
    "from aequitas.fairness import Fairness\n",
    "from aequitas.plotting import Plot\n",
    "\n",
    "import shap\n",
    "import xgboost\n",
    "\n",
    "import warnings; warnings.simplefilter('ignore')\n",
    "\n",
    "%matplotlib inline\n",
    "\n",
    "from sklearn.cluster import KMeans\n",
    "from sklearn.datasets import make_blobs\n",
    "\n",
    "from matplotlib import pyplot as plt\n",
    "%matplotlib inline\n",
    "\n",
    "import warnings\n",
    "\n",
    "pd.set_option('display.max_columns', None)\n",
    "pd.set_option('display.max_rows', None)\n",
    "warnings.filterwarnings(\"ignore\") "
   ]
  },
  {
   "cell_type": "markdown",
   "metadata": {},
   "source": [
    "# Bias and Fairness"
   ]
  },
  {
   "cell_type": "markdown",
   "metadata": {},
   "source": [
    "## Choosing a fairness metric"
   ]
  },
  {
   "cell_type": "markdown",
   "metadata": {},
   "source": [
    "Consider the following scenario:\n",
    "\n",
    "Suppose a certain country in Europe is building a model to predict the risk that a criminal is going to recidivate, similiar to the prediction made by the COMPAS model discussed in class.  However, in contrast to COMPAS, the goal is not to use these scores to determine whether or not an individual is allowed to be free; instead, those individuals with a high risk score will be admitted into a special program.  The special program has three components:  (1) the individuals recieve one-on-one counseling, (2) the individuals will recieve a monthly stipend, and (3) the individuals are set up with housing.  The program is a benefit to the individuals and is aimed at reducing recividism."
   ]
  },
  {
   "cell_type": "markdown",
   "metadata": {},
   "source": [
    "**Task:**  Consider the confusion matrix for the model.  How would you interpret the true positive, false positives, true negatives, and false negatives?"
   ]
  },
  {
   "cell_type": "markdown",
   "metadata": {},
   "source": [
    "The country is trying to decide on the proper fairness metric to use for their machine learning model, and cares about the protected attribute race.  In terms of representation, they would either accept a model that has equal nominal representation of different races, or equal proportional representation in the special program.  They are also concerend about errors made by the model, and want to make sure that predictive equity among groups is acheieved for people with need."
   ]
  },
  {
   "cell_type": "markdown",
   "metadata": {},
   "source": [
    "**Task:**  Review the Aequitas guidelines for fairness metrics, and think about them in the context of this problem:  http://www.datasciencepublicpolicy.org/projects/aequitas/."
   ]
  },
  {
   "cell_type": "markdown",
   "metadata": {},
   "source": [
    "**Question 1 (1 pt):** Which of the following is NOT a good choice for a fairness metric for the model?\n",
    "\n",
    "> a) False Negative Rate Parity \\\n",
    "> b) Minimizing Disparate Impact \\\n",
    "> c) Demographic Parity \\\n",
    "> d) False Discovery Rate Parity"
   ]
  },
  {
   "cell_type": "markdown",
   "metadata": {},
   "source": [
    "__Answer__: d), according to the tree found on the aequitas project."
   ]
  },
  {
   "cell_type": "markdown",
   "metadata": {},
   "source": [
    "## Auditing and mitigating bias"
   ]
  },
  {
   "cell_type": "markdown",
   "metadata": {},
   "source": [
    "We will now work on a machine learning problem related to student educational outcomes.  The goal of Part 1 of this  homework assignment is to build a model that can accurately predict whether or not a student will pass their final year of high school, and audit that model for bias.\n",
    "\n",
    "The data we will use contains **student achievement in high school** for students enrolled in two Portuguese schools. The data features include **student grades, demographics, social and school-related features** and it was collected by using school reports and questionnaires [Cortez and Silva, 2008].  This data comes from a study carried about by Paulo Cortez at the University of Minho, located in Guimaraes, Portugal.  More information on the data and the problem can be found here:   https://www.kaggle.com/dipam7/student-grade-prediction.\n",
    "\n",
    "The **business context** of this problem is building a machine learning model that can accurately predict if a student will fail their final year of secondary education, so that they may be enrolled pre-emptively into remedial courses."
   ]
  },
  {
   "cell_type": "code",
   "execution_count": 2,
   "metadata": {},
   "outputs": [],
   "source": [
    "X = pd.read_csv(\"matrices/X.csv\",index_col=0)\n",
    "y = pd.read_csv(\"matrices/y.csv\",index_col=0,squeeze = True)"
   ]
  },
  {
   "cell_type": "code",
   "execution_count": 3,
   "metadata": {},
   "outputs": [
    {
     "data": {
      "text/html": [
       "<div>\n",
       "<style scoped>\n",
       "    .dataframe tbody tr th:only-of-type {\n",
       "        vertical-align: middle;\n",
       "    }\n",
       "\n",
       "    .dataframe tbody tr th {\n",
       "        vertical-align: top;\n",
       "    }\n",
       "\n",
       "    .dataframe thead th {\n",
       "        text-align: right;\n",
       "    }\n",
       "</style>\n",
       "<table border=\"1\" class=\"dataframe\">\n",
       "  <thead>\n",
       "    <tr style=\"text-align: right;\">\n",
       "      <th></th>\n",
       "      <th>absences</th>\n",
       "      <th>failures</th>\n",
       "      <th>grade1</th>\n",
       "      <th>traveltime</th>\n",
       "      <th>studytime</th>\n",
       "      <th>famrel</th>\n",
       "      <th>freetime</th>\n",
       "      <th>goout</th>\n",
       "      <th>Dalc</th>\n",
       "      <th>Walc</th>\n",
       "      <th>health</th>\n",
       "      <th>activities</th>\n",
       "      <th>nursery</th>\n",
       "      <th>internet</th>\n",
       "      <th>romantic</th>\n",
       "      <th>school_gp</th>\n",
       "      <th>address_urban</th>\n",
       "      <th>famsize_gt3</th>\n",
       "      <th>Pstatus_togethor</th>\n",
       "      <th>sex_female</th>\n",
       "      <th>health_mjob</th>\n",
       "      <th>other_mjob</th>\n",
       "      <th>services_mjob</th>\n",
       "      <th>teacher_mjob</th>\n",
       "      <th>health_fjob</th>\n",
       "      <th>other_fjob</th>\n",
       "      <th>services_fjob</th>\n",
       "      <th>teacher_fjob</th>\n",
       "      <th>home_reason</th>\n",
       "      <th>other_reason</th>\n",
       "      <th>reputation_reason</th>\n",
       "      <th>mother_guardian</th>\n",
       "      <th>other_guardian</th>\n",
       "    </tr>\n",
       "  </thead>\n",
       "  <tbody>\n",
       "    <tr>\n",
       "      <th>0</th>\n",
       "      <td>12</td>\n",
       "      <td>0</td>\n",
       "      <td>15</td>\n",
       "      <td>1</td>\n",
       "      <td>1</td>\n",
       "      <td>3</td>\n",
       "      <td>2</td>\n",
       "      <td>1</td>\n",
       "      <td>1</td>\n",
       "      <td>4</td>\n",
       "      <td>5</td>\n",
       "      <td>0</td>\n",
       "      <td>1</td>\n",
       "      <td>1</td>\n",
       "      <td>0</td>\n",
       "      <td>1</td>\n",
       "      <td>1</td>\n",
       "      <td>1</td>\n",
       "      <td>0</td>\n",
       "      <td>1</td>\n",
       "      <td>0</td>\n",
       "      <td>0</td>\n",
       "      <td>1</td>\n",
       "      <td>0</td>\n",
       "      <td>0</td>\n",
       "      <td>1</td>\n",
       "      <td>0</td>\n",
       "      <td>0</td>\n",
       "      <td>0</td>\n",
       "      <td>0</td>\n",
       "      <td>0</td>\n",
       "      <td>0</td>\n",
       "      <td>0</td>\n",
       "    </tr>\n",
       "    <tr>\n",
       "      <th>1</th>\n",
       "      <td>2</td>\n",
       "      <td>0</td>\n",
       "      <td>17</td>\n",
       "      <td>1</td>\n",
       "      <td>2</td>\n",
       "      <td>5</td>\n",
       "      <td>3</td>\n",
       "      <td>4</td>\n",
       "      <td>1</td>\n",
       "      <td>3</td>\n",
       "      <td>3</td>\n",
       "      <td>1</td>\n",
       "      <td>0</td>\n",
       "      <td>1</td>\n",
       "      <td>0</td>\n",
       "      <td>1</td>\n",
       "      <td>1</td>\n",
       "      <td>1</td>\n",
       "      <td>1</td>\n",
       "      <td>1</td>\n",
       "      <td>0</td>\n",
       "      <td>1</td>\n",
       "      <td>0</td>\n",
       "      <td>0</td>\n",
       "      <td>0</td>\n",
       "      <td>1</td>\n",
       "      <td>0</td>\n",
       "      <td>0</td>\n",
       "      <td>0</td>\n",
       "      <td>0</td>\n",
       "      <td>0</td>\n",
       "      <td>1</td>\n",
       "      <td>0</td>\n",
       "    </tr>\n",
       "    <tr>\n",
       "      <th>2</th>\n",
       "      <td>0</td>\n",
       "      <td>2</td>\n",
       "      <td>9</td>\n",
       "      <td>2</td>\n",
       "      <td>1</td>\n",
       "      <td>4</td>\n",
       "      <td>4</td>\n",
       "      <td>5</td>\n",
       "      <td>3</td>\n",
       "      <td>5</td>\n",
       "      <td>5</td>\n",
       "      <td>0</td>\n",
       "      <td>0</td>\n",
       "      <td>1</td>\n",
       "      <td>0</td>\n",
       "      <td>1</td>\n",
       "      <td>1</td>\n",
       "      <td>0</td>\n",
       "      <td>1</td>\n",
       "      <td>0</td>\n",
       "      <td>1</td>\n",
       "      <td>0</td>\n",
       "      <td>0</td>\n",
       "      <td>0</td>\n",
       "      <td>0</td>\n",
       "      <td>0</td>\n",
       "      <td>1</td>\n",
       "      <td>0</td>\n",
       "      <td>0</td>\n",
       "      <td>0</td>\n",
       "      <td>0</td>\n",
       "      <td>1</td>\n",
       "      <td>0</td>\n",
       "    </tr>\n",
       "    <tr>\n",
       "      <th>3</th>\n",
       "      <td>4</td>\n",
       "      <td>0</td>\n",
       "      <td>14</td>\n",
       "      <td>2</td>\n",
       "      <td>2</td>\n",
       "      <td>4</td>\n",
       "      <td>4</td>\n",
       "      <td>3</td>\n",
       "      <td>1</td>\n",
       "      <td>1</td>\n",
       "      <td>3</td>\n",
       "      <td>1</td>\n",
       "      <td>1</td>\n",
       "      <td>1</td>\n",
       "      <td>0</td>\n",
       "      <td>0</td>\n",
       "      <td>1</td>\n",
       "      <td>1</td>\n",
       "      <td>1</td>\n",
       "      <td>0</td>\n",
       "      <td>0</td>\n",
       "      <td>1</td>\n",
       "      <td>0</td>\n",
       "      <td>0</td>\n",
       "      <td>0</td>\n",
       "      <td>0</td>\n",
       "      <td>1</td>\n",
       "      <td>0</td>\n",
       "      <td>1</td>\n",
       "      <td>0</td>\n",
       "      <td>0</td>\n",
       "      <td>0</td>\n",
       "      <td>0</td>\n",
       "    </tr>\n",
       "    <tr>\n",
       "      <th>4</th>\n",
       "      <td>2</td>\n",
       "      <td>0</td>\n",
       "      <td>12</td>\n",
       "      <td>2</td>\n",
       "      <td>1</td>\n",
       "      <td>4</td>\n",
       "      <td>3</td>\n",
       "      <td>2</td>\n",
       "      <td>1</td>\n",
       "      <td>4</td>\n",
       "      <td>5</td>\n",
       "      <td>0</td>\n",
       "      <td>1</td>\n",
       "      <td>0</td>\n",
       "      <td>0</td>\n",
       "      <td>1</td>\n",
       "      <td>1</td>\n",
       "      <td>1</td>\n",
       "      <td>1</td>\n",
       "      <td>1</td>\n",
       "      <td>0</td>\n",
       "      <td>0</td>\n",
       "      <td>0</td>\n",
       "      <td>0</td>\n",
       "      <td>0</td>\n",
       "      <td>1</td>\n",
       "      <td>0</td>\n",
       "      <td>0</td>\n",
       "      <td>1</td>\n",
       "      <td>0</td>\n",
       "      <td>0</td>\n",
       "      <td>1</td>\n",
       "      <td>0</td>\n",
       "    </tr>\n",
       "  </tbody>\n",
       "</table>\n",
       "</div>"
      ],
      "text/plain": [
       "   absences  failures  grade1  traveltime  studytime  famrel  freetime  goout  \\\n",
       "0        12         0      15           1          1       3         2      1   \n",
       "1         2         0      17           1          2       5         3      4   \n",
       "2         0         2       9           2          1       4         4      5   \n",
       "3         4         0      14           2          2       4         4      3   \n",
       "4         2         0      12           2          1       4         3      2   \n",
       "\n",
       "   Dalc  Walc  health  activities  nursery  internet  romantic  school_gp  \\\n",
       "0     1     4       5           0        1         1         0          1   \n",
       "1     1     3       3           1        0         1         0          1   \n",
       "2     3     5       5           0        0         1         0          1   \n",
       "3     1     1       3           1        1         1         0          0   \n",
       "4     1     4       5           0        1         0         0          1   \n",
       "\n",
       "   address_urban  famsize_gt3  Pstatus_togethor  sex_female  health_mjob  \\\n",
       "0              1            1                 0           1            0   \n",
       "1              1            1                 1           1            0   \n",
       "2              1            0                 1           0            1   \n",
       "3              1            1                 1           0            0   \n",
       "4              1            1                 1           1            0   \n",
       "\n",
       "   other_mjob  services_mjob  teacher_mjob  health_fjob  other_fjob  \\\n",
       "0           0              1             0            0           1   \n",
       "1           1              0             0            0           1   \n",
       "2           0              0             0            0           0   \n",
       "3           1              0             0            0           0   \n",
       "4           0              0             0            0           1   \n",
       "\n",
       "   services_fjob  teacher_fjob  home_reason  other_reason  reputation_reason  \\\n",
       "0              0             0            0             0                  0   \n",
       "1              0             0            0             0                  0   \n",
       "2              1             0            0             0                  0   \n",
       "3              1             0            1             0                  0   \n",
       "4              0             0            1             0                  0   \n",
       "\n",
       "   mother_guardian  other_guardian  \n",
       "0                0               0  \n",
       "1                1               0  \n",
       "2                1               0  \n",
       "3                0               0  \n",
       "4                1               0  "
      ]
     },
     "execution_count": 3,
     "metadata": {},
     "output_type": "execute_result"
    }
   ],
   "source": [
    "X.head()"
   ]
  },
  {
   "cell_type": "markdown",
   "metadata": {},
   "source": [
    "Now we will divide the data into training and testing data using the sklearn `train_test_split` function."
   ]
  },
  {
   "cell_type": "code",
   "execution_count": 4,
   "metadata": {},
   "outputs": [],
   "source": [
    "X_train, X_test, y_train, y_test = train_test_split(X, y, test_size=0.4, random_state=42)"
   ]
  },
  {
   "cell_type": "markdown",
   "metadata": {},
   "source": [
    "**Task**:  Train a Random Forest Classifier (https://scikit-learn.org/stable/modules/generated/sklearn.ensemble.RandomForestClassifier.html) for this data.  Use the hyperparmeters `max_depth=6, n_estimators=100,random_state=42` when training the classifier."
   ]
  },
  {
   "cell_type": "code",
   "execution_count": 5,
   "metadata": {},
   "outputs": [],
   "source": [
    "clf = RandomForestClassifier(max_depth = 6, n_estimators = 100,random_state = 42)\n",
    "clf.fit(X_train, y_train)\n",
    "y_pred = clf.predict(X_test)"
   ]
  },
  {
   "cell_type": "markdown",
   "metadata": {},
   "source": [
    "**Task:** Print out and plot the feature importance of the RandomForestClassifier.  What is the most important feature?  What is the least important feature?  Do you notice any feature importance that may indicate bias in the model?"
   ]
  },
  {
   "cell_type": "markdown",
   "metadata": {},
   "source": [
    "**Question 2 (1 pt):** What is the feature importance for the variable `sex_female`?\n",
    "\n",
    "> a) `0.01` \\\n",
    "> b) `0.007`  \\\n",
    "> c) `0.09` \\\n",
    "> d) `0.436`"
   ]
  },
  {
   "cell_type": "code",
   "execution_count": 6,
   "metadata": {},
   "outputs": [],
   "source": [
    "columns1 = list(X.columns)"
   ]
  },
  {
   "cell_type": "code",
   "execution_count": 7,
   "metadata": {},
   "outputs": [
    {
     "data": {
      "text/plain": [
       "19"
      ]
     },
     "execution_count": 7,
     "metadata": {},
     "output_type": "execute_result"
    }
   ],
   "source": [
    "columns1.index(\"sex_female\")"
   ]
  },
  {
   "cell_type": "code",
   "execution_count": 11,
   "metadata": {},
   "outputs": [
    {
     "data": {
      "text/plain": [
       "0.007"
      ]
     },
     "execution_count": 11,
     "metadata": {},
     "output_type": "execute_result"
    }
   ],
   "source": [
    "round(clf.feature_importances_[19],3)"
   ]
  },
  {
   "cell_type": "markdown",
   "metadata": {},
   "source": [
    "__Answer__: b) is the correct answer."
   ]
  },
  {
   "cell_type": "markdown",
   "metadata": {},
   "source": [
    "**Task:** Based on the feature importance of the `sex_female` variable, do you think it has a significant impact on the output of the model?  Reflect on whether or not this means there will be bias present in the model.\n",
    "\n",
    "Regardless, it is important that we conduct a more *robust* bias audit of our model.  To do this, we will use the tool Aequitas.\n",
    "\n",
    "Before we begin, we must first select a fairness metric.  There are several choices that woud make sense (take some time to reflect on these on your own), but for the purposes of this notebook, we will focus on the **False Negative Rate**.\n",
    "\n",
    "Consider the **False Negative** in this context:  a FN is a student that the model predicts will *not* recieve a failing grade, when in reality, they would.  Had they been desiginated as high risk, they would have recieved accesss to the special intervention that is part of our business context.\n",
    "\n",
    "To put this another way, a False Negative Rate disparity between groups would indicate that we were disproportionately *missing out* on desiginating individuals from one group who needed help for special intervention, compared to another other groups."
   ]
  },
  {
   "cell_type": "markdown",
   "metadata": {},
   "source": [
    "**Task:** Follow along with the Aequitas documentation to find the False Negative Rates of the males and females for your model:  https://dssg.github.io/aequitas/examples/compas_demo.html\n",
    "\n",
    "*Note:* Aequitas requires some pre-processing to run properly; that has been done for you in the code cell below and the pre-processed dataset is stored in the variable `df`."
   ]
  },
  {
   "cell_type": "code",
   "execution_count": 12,
   "metadata": {},
   "outputs": [
    {
     "data": {
      "text/html": [
       "<div>\n",
       "<style scoped>\n",
       "    .dataframe tbody tr th:only-of-type {\n",
       "        vertical-align: middle;\n",
       "    }\n",
       "\n",
       "    .dataframe tbody tr th {\n",
       "        vertical-align: top;\n",
       "    }\n",
       "\n",
       "    .dataframe thead th {\n",
       "        text-align: right;\n",
       "    }\n",
       "</style>\n",
       "<table border=\"1\" class=\"dataframe\">\n",
       "  <thead>\n",
       "    <tr style=\"text-align: right;\">\n",
       "      <th></th>\n",
       "      <th>sex</th>\n",
       "      <th>label_value</th>\n",
       "      <th>score</th>\n",
       "    </tr>\n",
       "  </thead>\n",
       "  <tbody>\n",
       "    <tr>\n",
       "      <th>497</th>\n",
       "      <td>F</td>\n",
       "      <td>1</td>\n",
       "      <td>1</td>\n",
       "    </tr>\n",
       "    <tr>\n",
       "      <th>326</th>\n",
       "      <td>F</td>\n",
       "      <td>1</td>\n",
       "      <td>1</td>\n",
       "    </tr>\n",
       "    <tr>\n",
       "      <th>144</th>\n",
       "      <td>F</td>\n",
       "      <td>1</td>\n",
       "      <td>1</td>\n",
       "    </tr>\n",
       "    <tr>\n",
       "      <th>545</th>\n",
       "      <td>M</td>\n",
       "      <td>1</td>\n",
       "      <td>0</td>\n",
       "    </tr>\n",
       "    <tr>\n",
       "      <th>622</th>\n",
       "      <td>M</td>\n",
       "      <td>0</td>\n",
       "      <td>0</td>\n",
       "    </tr>\n",
       "  </tbody>\n",
       "</table>\n",
       "</div>"
      ],
      "text/plain": [
       "    sex  label_value  score\n",
       "497   F            1      1\n",
       "326   F            1      1\n",
       "144   F            1      1\n",
       "545   M            1      0\n",
       "622   M            0      0"
      ]
     },
     "execution_count": 12,
     "metadata": {},
     "output_type": "execute_result"
    }
   ],
   "source": [
    "aequitas = X_train.filter(items=[\"sex_female\"])\n",
    "aequitas[\"sex\"] = aequitas[\"sex_female\"].apply(lambda x: \"F\" if x == 1 else \"M\")\n",
    "aequitas[\"label_value\"] = y_train\n",
    "y_pred_train = clf.predict(X_train)\n",
    "aequitas[\"score\"] = y_pred_train\n",
    "df = aequitas.drop(columns=[\"sex_female\"])\n",
    "\n",
    "df.head(5)"
   ]
  },
  {
   "cell_type": "markdown",
   "metadata": {},
   "source": [
    "**Task:** Calculate the False Negative Rate disparity of the model using the formula `FNR_female / FNR_male`.  What does this value represent?  When would the disparity be equal to `1.0`?  What does a disparity less than `1.0` mean?  What does a disparity greater than `1.0` mean?"
   ]
  },
  {
   "cell_type": "code",
   "execution_count": 13,
   "metadata": {},
   "outputs": [
    {
     "name": "stdout",
     "output_type": "stream",
     "text": [
      "get_disparity_predefined_group()\n"
     ]
    },
    {
     "data": {
      "text/html": [
       "<style  type=\"text/css\" >\n",
       "</style><table id=\"T_24529_\" ><thead>    <tr>        <th class=\"blank level0\" ></th>        <th class=\"col_heading level0 col0\" >model_id</th>        <th class=\"col_heading level0 col1\" >score_threshold</th>        <th class=\"col_heading level0 col2\" >k</th>        <th class=\"col_heading level0 col3\" >attribute_name</th>        <th class=\"col_heading level0 col4\" >attribute_value</th>        <th class=\"col_heading level0 col5\" >tpr</th>        <th class=\"col_heading level0 col6\" >tnr</th>        <th class=\"col_heading level0 col7\" >for</th>        <th class=\"col_heading level0 col8\" >fdr</th>        <th class=\"col_heading level0 col9\" >fpr</th>        <th class=\"col_heading level0 col10\" >fnr</th>        <th class=\"col_heading level0 col11\" >npv</th>        <th class=\"col_heading level0 col12\" >precision</th>        <th class=\"col_heading level0 col13\" >pp</th>        <th class=\"col_heading level0 col14\" >pn</th>        <th class=\"col_heading level0 col15\" >ppr</th>        <th class=\"col_heading level0 col16\" >pprev</th>        <th class=\"col_heading level0 col17\" >fp</th>        <th class=\"col_heading level0 col18\" >fn</th>        <th class=\"col_heading level0 col19\" >tn</th>        <th class=\"col_heading level0 col20\" >tp</th>        <th class=\"col_heading level0 col21\" >group_label_pos</th>        <th class=\"col_heading level0 col22\" >group_label_neg</th>        <th class=\"col_heading level0 col23\" >group_size</th>        <th class=\"col_heading level0 col24\" >total_entities</th>        <th class=\"col_heading level0 col25\" >prev</th>        <th class=\"col_heading level0 col26\" >ppr_disparity</th>        <th class=\"col_heading level0 col27\" >pprev_disparity</th>        <th class=\"col_heading level0 col28\" >precision_disparity</th>        <th class=\"col_heading level0 col29\" >fdr_disparity</th>        <th class=\"col_heading level0 col30\" >for_disparity</th>        <th class=\"col_heading level0 col31\" >fpr_disparity</th>        <th class=\"col_heading level0 col32\" >fnr_disparity</th>        <th class=\"col_heading level0 col33\" >tpr_disparity</th>        <th class=\"col_heading level0 col34\" >tnr_disparity</th>        <th class=\"col_heading level0 col35\" >npv_disparity</th>        <th class=\"col_heading level0 col36\" >ppr_ref_group_value</th>        <th class=\"col_heading level0 col37\" >pprev_ref_group_value</th>        <th class=\"col_heading level0 col38\" >precision_ref_group_value</th>        <th class=\"col_heading level0 col39\" >fdr_ref_group_value</th>        <th class=\"col_heading level0 col40\" >for_ref_group_value</th>        <th class=\"col_heading level0 col41\" >fpr_ref_group_value</th>        <th class=\"col_heading level0 col42\" >fnr_ref_group_value</th>        <th class=\"col_heading level0 col43\" >tpr_ref_group_value</th>        <th class=\"col_heading level0 col44\" >tnr_ref_group_value</th>        <th class=\"col_heading level0 col45\" >npv_ref_group_value</th>    </tr></thead><tbody>\n",
       "                <tr>\n",
       "                        <th id=\"T_24529_level0_row0\" class=\"row_heading level0 row0\" >0</th>\n",
       "                        <td id=\"T_24529_row0_col0\" class=\"data row0 col0\" >0</td>\n",
       "                        <td id=\"T_24529_row0_col1\" class=\"data row0 col1\" >binary 0/1</td>\n",
       "                        <td id=\"T_24529_row0_col2\" class=\"data row0 col2\" >99</td>\n",
       "                        <td id=\"T_24529_row0_col3\" class=\"data row0 col3\" >sex</td>\n",
       "                        <td id=\"T_24529_row0_col4\" class=\"data row0 col4\" >F</td>\n",
       "                        <td id=\"T_24529_row0_col5\" class=\"data row0 col5\" >0.753247</td>\n",
       "                        <td id=\"T_24529_row0_col6\" class=\"data row0 col6\" >0.993243</td>\n",
       "                        <td id=\"T_24529_row0_col7\" class=\"data row0 col7\" >0.060703</td>\n",
       "                        <td id=\"T_24529_row0_col8\" class=\"data row0 col8\" >0.033333</td>\n",
       "                        <td id=\"T_24529_row0_col9\" class=\"data row0 col9\" >0.006757</td>\n",
       "                        <td id=\"T_24529_row0_col10\" class=\"data row0 col10\" >0.246753</td>\n",
       "                        <td id=\"T_24529_row0_col11\" class=\"data row0 col11\" >0.939297</td>\n",
       "                        <td id=\"T_24529_row0_col12\" class=\"data row0 col12\" >0.966667</td>\n",
       "                        <td id=\"T_24529_row0_col13\" class=\"data row0 col13\" >60</td>\n",
       "                        <td id=\"T_24529_row0_col14\" class=\"data row0 col14\" >313</td>\n",
       "                        <td id=\"T_24529_row0_col15\" class=\"data row0 col15\" >0.606061</td>\n",
       "                        <td id=\"T_24529_row0_col16\" class=\"data row0 col16\" >0.160858</td>\n",
       "                        <td id=\"T_24529_row0_col17\" class=\"data row0 col17\" >2</td>\n",
       "                        <td id=\"T_24529_row0_col18\" class=\"data row0 col18\" >19</td>\n",
       "                        <td id=\"T_24529_row0_col19\" class=\"data row0 col19\" >294</td>\n",
       "                        <td id=\"T_24529_row0_col20\" class=\"data row0 col20\" >58</td>\n",
       "                        <td id=\"T_24529_row0_col21\" class=\"data row0 col21\" >77</td>\n",
       "                        <td id=\"T_24529_row0_col22\" class=\"data row0 col22\" >296</td>\n",
       "                        <td id=\"T_24529_row0_col23\" class=\"data row0 col23\" >373</td>\n",
       "                        <td id=\"T_24529_row0_col24\" class=\"data row0 col24\" >626</td>\n",
       "                        <td id=\"T_24529_row0_col25\" class=\"data row0 col25\" >0.206434</td>\n",
       "                        <td id=\"T_24529_row0_col26\" class=\"data row0 col26\" >1.538462</td>\n",
       "                        <td id=\"T_24529_row0_col27\" class=\"data row0 col27\" >1.043514</td>\n",
       "                        <td id=\"T_24529_row0_col28\" class=\"data row0 col28\" >0.966667</td>\n",
       "                        <td id=\"T_24529_row0_col29\" class=\"data row0 col29\" >10.000000</td>\n",
       "                        <td id=\"T_24529_row0_col30\" class=\"data row0 col30\" >0.764142</td>\n",
       "                        <td id=\"T_24529_row0_col31\" class=\"data row0 col31\" >10.000000</td>\n",
       "                        <td id=\"T_24529_row0_col32\" class=\"data row0 col32\" >0.812834</td>\n",
       "                        <td id=\"T_24529_row0_col33\" class=\"data row0 col33\" >1.081585</td>\n",
       "                        <td id=\"T_24529_row0_col34\" class=\"data row0 col34\" >0.993243</td>\n",
       "                        <td id=\"T_24529_row0_col35\" class=\"data row0 col35\" >1.020353</td>\n",
       "                        <td id=\"T_24529_row0_col36\" class=\"data row0 col36\" >M</td>\n",
       "                        <td id=\"T_24529_row0_col37\" class=\"data row0 col37\" >M</td>\n",
       "                        <td id=\"T_24529_row0_col38\" class=\"data row0 col38\" >M</td>\n",
       "                        <td id=\"T_24529_row0_col39\" class=\"data row0 col39\" >M</td>\n",
       "                        <td id=\"T_24529_row0_col40\" class=\"data row0 col40\" >M</td>\n",
       "                        <td id=\"T_24529_row0_col41\" class=\"data row0 col41\" >M</td>\n",
       "                        <td id=\"T_24529_row0_col42\" class=\"data row0 col42\" >M</td>\n",
       "                        <td id=\"T_24529_row0_col43\" class=\"data row0 col43\" >M</td>\n",
       "                        <td id=\"T_24529_row0_col44\" class=\"data row0 col44\" >M</td>\n",
       "                        <td id=\"T_24529_row0_col45\" class=\"data row0 col45\" >M</td>\n",
       "            </tr>\n",
       "            <tr>\n",
       "                        <th id=\"T_24529_level0_row1\" class=\"row_heading level0 row1\" >1</th>\n",
       "                        <td id=\"T_24529_row1_col0\" class=\"data row1 col0\" >0</td>\n",
       "                        <td id=\"T_24529_row1_col1\" class=\"data row1 col1\" >binary 0/1</td>\n",
       "                        <td id=\"T_24529_row1_col2\" class=\"data row1 col2\" >99</td>\n",
       "                        <td id=\"T_24529_row1_col3\" class=\"data row1 col3\" >sex</td>\n",
       "                        <td id=\"T_24529_row1_col4\" class=\"data row1 col4\" >M</td>\n",
       "                        <td id=\"T_24529_row1_col5\" class=\"data row1 col5\" >0.696429</td>\n",
       "                        <td id=\"T_24529_row1_col6\" class=\"data row1 col6\" >1.000000</td>\n",
       "                        <td id=\"T_24529_row1_col7\" class=\"data row1 col7\" >0.079439</td>\n",
       "                        <td id=\"T_24529_row1_col8\" class=\"data row1 col8\" >0.000000</td>\n",
       "                        <td id=\"T_24529_row1_col9\" class=\"data row1 col9\" >0.000000</td>\n",
       "                        <td id=\"T_24529_row1_col10\" class=\"data row1 col10\" >0.303571</td>\n",
       "                        <td id=\"T_24529_row1_col11\" class=\"data row1 col11\" >0.920561</td>\n",
       "                        <td id=\"T_24529_row1_col12\" class=\"data row1 col12\" >1.000000</td>\n",
       "                        <td id=\"T_24529_row1_col13\" class=\"data row1 col13\" >39</td>\n",
       "                        <td id=\"T_24529_row1_col14\" class=\"data row1 col14\" >214</td>\n",
       "                        <td id=\"T_24529_row1_col15\" class=\"data row1 col15\" >0.393939</td>\n",
       "                        <td id=\"T_24529_row1_col16\" class=\"data row1 col16\" >0.154150</td>\n",
       "                        <td id=\"T_24529_row1_col17\" class=\"data row1 col17\" >0</td>\n",
       "                        <td id=\"T_24529_row1_col18\" class=\"data row1 col18\" >17</td>\n",
       "                        <td id=\"T_24529_row1_col19\" class=\"data row1 col19\" >197</td>\n",
       "                        <td id=\"T_24529_row1_col20\" class=\"data row1 col20\" >39</td>\n",
       "                        <td id=\"T_24529_row1_col21\" class=\"data row1 col21\" >56</td>\n",
       "                        <td id=\"T_24529_row1_col22\" class=\"data row1 col22\" >197</td>\n",
       "                        <td id=\"T_24529_row1_col23\" class=\"data row1 col23\" >253</td>\n",
       "                        <td id=\"T_24529_row1_col24\" class=\"data row1 col24\" >626</td>\n",
       "                        <td id=\"T_24529_row1_col25\" class=\"data row1 col25\" >0.221344</td>\n",
       "                        <td id=\"T_24529_row1_col26\" class=\"data row1 col26\" >1.000000</td>\n",
       "                        <td id=\"T_24529_row1_col27\" class=\"data row1 col27\" >1.000000</td>\n",
       "                        <td id=\"T_24529_row1_col28\" class=\"data row1 col28\" >1.000000</td>\n",
       "                        <td id=\"T_24529_row1_col29\" class=\"data row1 col29\" >nan</td>\n",
       "                        <td id=\"T_24529_row1_col30\" class=\"data row1 col30\" >1.000000</td>\n",
       "                        <td id=\"T_24529_row1_col31\" class=\"data row1 col31\" >nan</td>\n",
       "                        <td id=\"T_24529_row1_col32\" class=\"data row1 col32\" >1.000000</td>\n",
       "                        <td id=\"T_24529_row1_col33\" class=\"data row1 col33\" >1.000000</td>\n",
       "                        <td id=\"T_24529_row1_col34\" class=\"data row1 col34\" >1.000000</td>\n",
       "                        <td id=\"T_24529_row1_col35\" class=\"data row1 col35\" >1.000000</td>\n",
       "                        <td id=\"T_24529_row1_col36\" class=\"data row1 col36\" >M</td>\n",
       "                        <td id=\"T_24529_row1_col37\" class=\"data row1 col37\" >M</td>\n",
       "                        <td id=\"T_24529_row1_col38\" class=\"data row1 col38\" >M</td>\n",
       "                        <td id=\"T_24529_row1_col39\" class=\"data row1 col39\" >M</td>\n",
       "                        <td id=\"T_24529_row1_col40\" class=\"data row1 col40\" >M</td>\n",
       "                        <td id=\"T_24529_row1_col41\" class=\"data row1 col41\" >M</td>\n",
       "                        <td id=\"T_24529_row1_col42\" class=\"data row1 col42\" >M</td>\n",
       "                        <td id=\"T_24529_row1_col43\" class=\"data row1 col43\" >M</td>\n",
       "                        <td id=\"T_24529_row1_col44\" class=\"data row1 col44\" >M</td>\n",
       "                        <td id=\"T_24529_row1_col45\" class=\"data row1 col45\" >M</td>\n",
       "            </tr>\n",
       "    </tbody></table>"
      ],
      "text/plain": [
       "<pandas.io.formats.style.Styler at 0x20a590a8070>"
      ]
     },
     "execution_count": 13,
     "metadata": {},
     "output_type": "execute_result"
    }
   ],
   "source": [
    "g = Group()\n",
    "xtab, _ = g.get_crosstabs(df)\n",
    "b = Bias()\n",
    "bdf = b.get_disparity_predefined_groups(xtab, original_df=df, ref_groups_dict={'sex':'M'}, alpha=0.05, mask_significance=True)\n",
    "bdf.style"
   ]
  },
  {
   "cell_type": "code",
   "execution_count": 15,
   "metadata": {},
   "outputs": [
    {
     "data": {
      "text/plain": [
       "0.8"
      ]
     },
     "execution_count": 15,
     "metadata": {},
     "output_type": "execute_result"
    }
   ],
   "source": [
    "round(bdf[\"fnr\"][0] / bdf[\"fnr\"][1],1)"
   ]
  },
  {
   "cell_type": "markdown",
   "metadata": {},
   "source": [
    "**Question 3 (1 pt):** Approximately what is the False Negative Rate disparity of the RandomForestClassifier?\n",
    "\n",
    "> a) `1.2` \\\n",
    "> b) `1.0` \\\n",
    "> c) `0.8`  \\\n",
    "> d) `0.6`"
   ]
  },
  {
   "cell_type": "markdown",
   "metadata": {},
   "source": [
    "__Answer__: The correct answer is c)."
   ]
  },
  {
   "cell_type": "markdown",
   "metadata": {},
   "source": [
    "**Task:**  Reflect on your answer for Question 3.  Do you think the model is equitable to both males and females?  Generally, as a rule-of-thumb, we accept disparities between `0.85` and `1.15` as fair."
   ]
  },
  {
   "cell_type": "markdown",
   "metadata": {},
   "source": [
    "**Task:** First, train a new RandomForestClassifier using the same hyperparameters as earlier (and remember to use `random_state=42`), but this time, drop the feature `sex_female` from the train and test matrices.  Second, carry out the same Aequitas analysis as before and find the FNR disparity between the males and females."
   ]
  },
  {
   "cell_type": "code",
   "execution_count": 19,
   "metadata": {},
   "outputs": [],
   "source": [
    "X_train_new = X_train.drop(columns = [\"sex_female\"])\n",
    "X_test_new = X_test.drop(columns = [\"sex_female\"])"
   ]
  },
  {
   "cell_type": "code",
   "execution_count": 21,
   "metadata": {},
   "outputs": [],
   "source": [
    "clf = RandomForestClassifier(max_depth = 6, n_estimators = 100,random_state = 42)\n",
    "clf.fit(X_train_new, y_train)\n",
    "y_pred_new = clf.predict(X_test_new)"
   ]
  },
  {
   "cell_type": "code",
   "execution_count": 25,
   "metadata": {},
   "outputs": [
    {
     "data": {
      "text/html": [
       "<div>\n",
       "<style scoped>\n",
       "    .dataframe tbody tr th:only-of-type {\n",
       "        vertical-align: middle;\n",
       "    }\n",
       "\n",
       "    .dataframe tbody tr th {\n",
       "        vertical-align: top;\n",
       "    }\n",
       "\n",
       "    .dataframe thead th {\n",
       "        text-align: right;\n",
       "    }\n",
       "</style>\n",
       "<table border=\"1\" class=\"dataframe\">\n",
       "  <thead>\n",
       "    <tr style=\"text-align: right;\">\n",
       "      <th></th>\n",
       "      <th>sex</th>\n",
       "      <th>label_value</th>\n",
       "      <th>score</th>\n",
       "    </tr>\n",
       "  </thead>\n",
       "  <tbody>\n",
       "    <tr>\n",
       "      <th>497</th>\n",
       "      <td>F</td>\n",
       "      <td>1</td>\n",
       "      <td>1</td>\n",
       "    </tr>\n",
       "    <tr>\n",
       "      <th>326</th>\n",
       "      <td>F</td>\n",
       "      <td>1</td>\n",
       "      <td>1</td>\n",
       "    </tr>\n",
       "    <tr>\n",
       "      <th>144</th>\n",
       "      <td>F</td>\n",
       "      <td>1</td>\n",
       "      <td>1</td>\n",
       "    </tr>\n",
       "    <tr>\n",
       "      <th>545</th>\n",
       "      <td>M</td>\n",
       "      <td>1</td>\n",
       "      <td>0</td>\n",
       "    </tr>\n",
       "    <tr>\n",
       "      <th>622</th>\n",
       "      <td>M</td>\n",
       "      <td>0</td>\n",
       "      <td>0</td>\n",
       "    </tr>\n",
       "  </tbody>\n",
       "</table>\n",
       "</div>"
      ],
      "text/plain": [
       "    sex  label_value  score\n",
       "497   F            1      1\n",
       "326   F            1      1\n",
       "144   F            1      1\n",
       "545   M            1      0\n",
       "622   M            0      0"
      ]
     },
     "execution_count": 25,
     "metadata": {},
     "output_type": "execute_result"
    }
   ],
   "source": [
    "aequitas = X_train.filter(items=[\"sex_female\"])\n",
    "aequitas[\"sex\"] = aequitas[\"sex_female\"].apply(lambda x: \"F\" if x == 1 else \"M\")\n",
    "aequitas[\"label_value\"] = y_train\n",
    "y_pred_train = clf.predict(X_train_new)\n",
    "aequitas[\"score\"] = y_pred_train\n",
    "df = aequitas.drop(columns=[\"sex_female\"])\n",
    "\n",
    "df.head(5)"
   ]
  },
  {
   "cell_type": "code",
   "execution_count": 26,
   "metadata": {},
   "outputs": [
    {
     "name": "stdout",
     "output_type": "stream",
     "text": [
      "get_disparity_predefined_group()\n"
     ]
    },
    {
     "data": {
      "text/html": [
       "<style  type=\"text/css\" >\n",
       "</style><table id=\"T_87eea_\" ><thead>    <tr>        <th class=\"blank level0\" ></th>        <th class=\"col_heading level0 col0\" >model_id</th>        <th class=\"col_heading level0 col1\" >score_threshold</th>        <th class=\"col_heading level0 col2\" >k</th>        <th class=\"col_heading level0 col3\" >attribute_name</th>        <th class=\"col_heading level0 col4\" >attribute_value</th>        <th class=\"col_heading level0 col5\" >tpr</th>        <th class=\"col_heading level0 col6\" >tnr</th>        <th class=\"col_heading level0 col7\" >for</th>        <th class=\"col_heading level0 col8\" >fdr</th>        <th class=\"col_heading level0 col9\" >fpr</th>        <th class=\"col_heading level0 col10\" >fnr</th>        <th class=\"col_heading level0 col11\" >npv</th>        <th class=\"col_heading level0 col12\" >precision</th>        <th class=\"col_heading level0 col13\" >pp</th>        <th class=\"col_heading level0 col14\" >pn</th>        <th class=\"col_heading level0 col15\" >ppr</th>        <th class=\"col_heading level0 col16\" >pprev</th>        <th class=\"col_heading level0 col17\" >fp</th>        <th class=\"col_heading level0 col18\" >fn</th>        <th class=\"col_heading level0 col19\" >tn</th>        <th class=\"col_heading level0 col20\" >tp</th>        <th class=\"col_heading level0 col21\" >group_label_pos</th>        <th class=\"col_heading level0 col22\" >group_label_neg</th>        <th class=\"col_heading level0 col23\" >group_size</th>        <th class=\"col_heading level0 col24\" >total_entities</th>        <th class=\"col_heading level0 col25\" >prev</th>        <th class=\"col_heading level0 col26\" >ppr_disparity</th>        <th class=\"col_heading level0 col27\" >pprev_disparity</th>        <th class=\"col_heading level0 col28\" >precision_disparity</th>        <th class=\"col_heading level0 col29\" >fdr_disparity</th>        <th class=\"col_heading level0 col30\" >for_disparity</th>        <th class=\"col_heading level0 col31\" >fpr_disparity</th>        <th class=\"col_heading level0 col32\" >fnr_disparity</th>        <th class=\"col_heading level0 col33\" >tpr_disparity</th>        <th class=\"col_heading level0 col34\" >tnr_disparity</th>        <th class=\"col_heading level0 col35\" >npv_disparity</th>        <th class=\"col_heading level0 col36\" >ppr_ref_group_value</th>        <th class=\"col_heading level0 col37\" >pprev_ref_group_value</th>        <th class=\"col_heading level0 col38\" >precision_ref_group_value</th>        <th class=\"col_heading level0 col39\" >fdr_ref_group_value</th>        <th class=\"col_heading level0 col40\" >for_ref_group_value</th>        <th class=\"col_heading level0 col41\" >fpr_ref_group_value</th>        <th class=\"col_heading level0 col42\" >fnr_ref_group_value</th>        <th class=\"col_heading level0 col43\" >tpr_ref_group_value</th>        <th class=\"col_heading level0 col44\" >tnr_ref_group_value</th>        <th class=\"col_heading level0 col45\" >npv_ref_group_value</th>    </tr></thead><tbody>\n",
       "                <tr>\n",
       "                        <th id=\"T_87eea_level0_row0\" class=\"row_heading level0 row0\" >0</th>\n",
       "                        <td id=\"T_87eea_row0_col0\" class=\"data row0 col0\" >0</td>\n",
       "                        <td id=\"T_87eea_row0_col1\" class=\"data row0 col1\" >binary 0/1</td>\n",
       "                        <td id=\"T_87eea_row0_col2\" class=\"data row0 col2\" >100</td>\n",
       "                        <td id=\"T_87eea_row0_col3\" class=\"data row0 col3\" >sex</td>\n",
       "                        <td id=\"T_87eea_row0_col4\" class=\"data row0 col4\" >F</td>\n",
       "                        <td id=\"T_87eea_row0_col5\" class=\"data row0 col5\" >0.753247</td>\n",
       "                        <td id=\"T_87eea_row0_col6\" class=\"data row0 col6\" >0.996622</td>\n",
       "                        <td id=\"T_87eea_row0_col7\" class=\"data row0 col7\" >0.060510</td>\n",
       "                        <td id=\"T_87eea_row0_col8\" class=\"data row0 col8\" >0.016949</td>\n",
       "                        <td id=\"T_87eea_row0_col9\" class=\"data row0 col9\" >0.003378</td>\n",
       "                        <td id=\"T_87eea_row0_col10\" class=\"data row0 col10\" >0.246753</td>\n",
       "                        <td id=\"T_87eea_row0_col11\" class=\"data row0 col11\" >0.939490</td>\n",
       "                        <td id=\"T_87eea_row0_col12\" class=\"data row0 col12\" >0.983051</td>\n",
       "                        <td id=\"T_87eea_row0_col13\" class=\"data row0 col13\" >59</td>\n",
       "                        <td id=\"T_87eea_row0_col14\" class=\"data row0 col14\" >314</td>\n",
       "                        <td id=\"T_87eea_row0_col15\" class=\"data row0 col15\" >0.590000</td>\n",
       "                        <td id=\"T_87eea_row0_col16\" class=\"data row0 col16\" >0.158177</td>\n",
       "                        <td id=\"T_87eea_row0_col17\" class=\"data row0 col17\" >1</td>\n",
       "                        <td id=\"T_87eea_row0_col18\" class=\"data row0 col18\" >19</td>\n",
       "                        <td id=\"T_87eea_row0_col19\" class=\"data row0 col19\" >295</td>\n",
       "                        <td id=\"T_87eea_row0_col20\" class=\"data row0 col20\" >58</td>\n",
       "                        <td id=\"T_87eea_row0_col21\" class=\"data row0 col21\" >77</td>\n",
       "                        <td id=\"T_87eea_row0_col22\" class=\"data row0 col22\" >296</td>\n",
       "                        <td id=\"T_87eea_row0_col23\" class=\"data row0 col23\" >373</td>\n",
       "                        <td id=\"T_87eea_row0_col24\" class=\"data row0 col24\" >626</td>\n",
       "                        <td id=\"T_87eea_row0_col25\" class=\"data row0 col25\" >0.206434</td>\n",
       "                        <td id=\"T_87eea_row0_col26\" class=\"data row0 col26\" >1.439024</td>\n",
       "                        <td id=\"T_87eea_row0_col27\" class=\"data row0 col27\" >0.976067</td>\n",
       "                        <td id=\"T_87eea_row0_col28\" class=\"data row0 col28\" >1.007627</td>\n",
       "                        <td id=\"T_87eea_row0_col29\" class=\"data row0 col29\" >0.694915</td>\n",
       "                        <td id=\"T_87eea_row0_col30\" class=\"data row0 col30\" >0.801752</td>\n",
       "                        <td id=\"T_87eea_row0_col31\" class=\"data row0 col31\" >0.665541</td>\n",
       "                        <td id=\"T_87eea_row0_col32\" class=\"data row0 col32\" >0.863636</td>\n",
       "                        <td id=\"T_87eea_row0_col33\" class=\"data row0 col33\" >1.054545</td>\n",
       "                        <td id=\"T_87eea_row0_col34\" class=\"data row0 col34\" >1.001706</td>\n",
       "                        <td id=\"T_87eea_row0_col35\" class=\"data row0 col35\" >1.016184</td>\n",
       "                        <td id=\"T_87eea_row0_col36\" class=\"data row0 col36\" >M</td>\n",
       "                        <td id=\"T_87eea_row0_col37\" class=\"data row0 col37\" >M</td>\n",
       "                        <td id=\"T_87eea_row0_col38\" class=\"data row0 col38\" >M</td>\n",
       "                        <td id=\"T_87eea_row0_col39\" class=\"data row0 col39\" >M</td>\n",
       "                        <td id=\"T_87eea_row0_col40\" class=\"data row0 col40\" >M</td>\n",
       "                        <td id=\"T_87eea_row0_col41\" class=\"data row0 col41\" >M</td>\n",
       "                        <td id=\"T_87eea_row0_col42\" class=\"data row0 col42\" >M</td>\n",
       "                        <td id=\"T_87eea_row0_col43\" class=\"data row0 col43\" >M</td>\n",
       "                        <td id=\"T_87eea_row0_col44\" class=\"data row0 col44\" >M</td>\n",
       "                        <td id=\"T_87eea_row0_col45\" class=\"data row0 col45\" >M</td>\n",
       "            </tr>\n",
       "            <tr>\n",
       "                        <th id=\"T_87eea_level0_row1\" class=\"row_heading level0 row1\" >1</th>\n",
       "                        <td id=\"T_87eea_row1_col0\" class=\"data row1 col0\" >0</td>\n",
       "                        <td id=\"T_87eea_row1_col1\" class=\"data row1 col1\" >binary 0/1</td>\n",
       "                        <td id=\"T_87eea_row1_col2\" class=\"data row1 col2\" >100</td>\n",
       "                        <td id=\"T_87eea_row1_col3\" class=\"data row1 col3\" >sex</td>\n",
       "                        <td id=\"T_87eea_row1_col4\" class=\"data row1 col4\" >M</td>\n",
       "                        <td id=\"T_87eea_row1_col5\" class=\"data row1 col5\" >0.714286</td>\n",
       "                        <td id=\"T_87eea_row1_col6\" class=\"data row1 col6\" >0.994924</td>\n",
       "                        <td id=\"T_87eea_row1_col7\" class=\"data row1 col7\" >0.075472</td>\n",
       "                        <td id=\"T_87eea_row1_col8\" class=\"data row1 col8\" >0.024390</td>\n",
       "                        <td id=\"T_87eea_row1_col9\" class=\"data row1 col9\" >0.005076</td>\n",
       "                        <td id=\"T_87eea_row1_col10\" class=\"data row1 col10\" >0.285714</td>\n",
       "                        <td id=\"T_87eea_row1_col11\" class=\"data row1 col11\" >0.924528</td>\n",
       "                        <td id=\"T_87eea_row1_col12\" class=\"data row1 col12\" >0.975610</td>\n",
       "                        <td id=\"T_87eea_row1_col13\" class=\"data row1 col13\" >41</td>\n",
       "                        <td id=\"T_87eea_row1_col14\" class=\"data row1 col14\" >212</td>\n",
       "                        <td id=\"T_87eea_row1_col15\" class=\"data row1 col15\" >0.410000</td>\n",
       "                        <td id=\"T_87eea_row1_col16\" class=\"data row1 col16\" >0.162055</td>\n",
       "                        <td id=\"T_87eea_row1_col17\" class=\"data row1 col17\" >1</td>\n",
       "                        <td id=\"T_87eea_row1_col18\" class=\"data row1 col18\" >16</td>\n",
       "                        <td id=\"T_87eea_row1_col19\" class=\"data row1 col19\" >196</td>\n",
       "                        <td id=\"T_87eea_row1_col20\" class=\"data row1 col20\" >40</td>\n",
       "                        <td id=\"T_87eea_row1_col21\" class=\"data row1 col21\" >56</td>\n",
       "                        <td id=\"T_87eea_row1_col22\" class=\"data row1 col22\" >197</td>\n",
       "                        <td id=\"T_87eea_row1_col23\" class=\"data row1 col23\" >253</td>\n",
       "                        <td id=\"T_87eea_row1_col24\" class=\"data row1 col24\" >626</td>\n",
       "                        <td id=\"T_87eea_row1_col25\" class=\"data row1 col25\" >0.221344</td>\n",
       "                        <td id=\"T_87eea_row1_col26\" class=\"data row1 col26\" >1.000000</td>\n",
       "                        <td id=\"T_87eea_row1_col27\" class=\"data row1 col27\" >1.000000</td>\n",
       "                        <td id=\"T_87eea_row1_col28\" class=\"data row1 col28\" >1.000000</td>\n",
       "                        <td id=\"T_87eea_row1_col29\" class=\"data row1 col29\" >1.000000</td>\n",
       "                        <td id=\"T_87eea_row1_col30\" class=\"data row1 col30\" >1.000000</td>\n",
       "                        <td id=\"T_87eea_row1_col31\" class=\"data row1 col31\" >1.000000</td>\n",
       "                        <td id=\"T_87eea_row1_col32\" class=\"data row1 col32\" >1.000000</td>\n",
       "                        <td id=\"T_87eea_row1_col33\" class=\"data row1 col33\" >1.000000</td>\n",
       "                        <td id=\"T_87eea_row1_col34\" class=\"data row1 col34\" >1.000000</td>\n",
       "                        <td id=\"T_87eea_row1_col35\" class=\"data row1 col35\" >1.000000</td>\n",
       "                        <td id=\"T_87eea_row1_col36\" class=\"data row1 col36\" >M</td>\n",
       "                        <td id=\"T_87eea_row1_col37\" class=\"data row1 col37\" >M</td>\n",
       "                        <td id=\"T_87eea_row1_col38\" class=\"data row1 col38\" >M</td>\n",
       "                        <td id=\"T_87eea_row1_col39\" class=\"data row1 col39\" >M</td>\n",
       "                        <td id=\"T_87eea_row1_col40\" class=\"data row1 col40\" >M</td>\n",
       "                        <td id=\"T_87eea_row1_col41\" class=\"data row1 col41\" >M</td>\n",
       "                        <td id=\"T_87eea_row1_col42\" class=\"data row1 col42\" >M</td>\n",
       "                        <td id=\"T_87eea_row1_col43\" class=\"data row1 col43\" >M</td>\n",
       "                        <td id=\"T_87eea_row1_col44\" class=\"data row1 col44\" >M</td>\n",
       "                        <td id=\"T_87eea_row1_col45\" class=\"data row1 col45\" >M</td>\n",
       "            </tr>\n",
       "    </tbody></table>"
      ],
      "text/plain": [
       "<pandas.io.formats.style.Styler at 0x20a58ee5f70>"
      ]
     },
     "execution_count": 26,
     "metadata": {},
     "output_type": "execute_result"
    }
   ],
   "source": [
    "g = Group()\n",
    "xtab, _ = g.get_crosstabs(df)\n",
    "b = Bias()\n",
    "bdf = b.get_disparity_predefined_groups(xtab, original_df=df, ref_groups_dict={'sex':'M'}, alpha=0.05, mask_significance=True)\n",
    "bdf.style"
   ]
  },
  {
   "cell_type": "code",
   "execution_count": 28,
   "metadata": {},
   "outputs": [
    {
     "data": {
      "text/plain": [
       "0.86"
      ]
     },
     "execution_count": 28,
     "metadata": {},
     "output_type": "execute_result"
    }
   ],
   "source": [
    "round(bdf[\"fnr\"][0] / bdf[\"fnr\"][1], 2)"
   ]
  },
  {
   "cell_type": "markdown",
   "metadata": {},
   "source": [
    "**Question 4 (1 pt):** Approximately what is the False Negative Rate disparity of the RandomForestClassifier trained without the `sex_female` feature?\n",
    "\n",
    "> a) `1.2` \\\n",
    "> b) `1.05` \\\n",
    "> c) `0.85` \\\n",
    "> d) `0.60`"
   ]
  },
  {
   "cell_type": "markdown",
   "metadata": {},
   "source": [
    "__Answer__: Althought not exactly 0.85, my calculations point towards c) being the correct answer."
   ]
  },
  {
   "cell_type": "markdown",
   "metadata": {},
   "source": [
    "**Task:** Reflect on the answer you found to Question 4.  Is the model more fair, or less fair?  Would you be comfortable deploying this model into the real world?  What would you say to someone concerned about the fairness of the model with respect to gender?  Could you defend the decision in a way that many different stakeholders - like policymakers, educators, students affected by the model, and even society-at-large - would see it as fair and just?\n",
    "\n",
    "What is the performance of the new model?  Was there a tradeoff between model performance and fairness?"
   ]
  },
  {
   "cell_type": "markdown",
   "metadata": {},
   "source": [
    "## Explainability"
   ]
  },
  {
   "cell_type": "markdown",
   "metadata": {},
   "source": [
    "Before deploying our model into production, we should gain some insight on *how* it is working, and *why* it is scoring the students the way it is.\n",
    "\n",
    "To do this, we will use the **black-box explainer SHAP**.  This is a post-hoc explainability method, meaning that is applied *after* our model has been trained.\n",
    "\n",
    "Before we begin explaining, we will train a commonly used black-box model for our data called XGBoost."
   ]
  },
  {
   "cell_type": "markdown",
   "metadata": {},
   "source": [
    "**Task:**  Train an XGBoost model using the hyperparemters `n_estimators=200, max_depth=5, random_state=42`.  Inspect the models performance and compare it to the Random Forest models we used earlier."
   ]
  },
  {
   "cell_type": "code",
   "execution_count": 17,
   "metadata": {},
   "outputs": [
    {
     "name": "stdout",
     "output_type": "stream",
     "text": [
      "[15:55:33] WARNING: ..\\src\\learner.cc:541: \n",
      "Parameters: { random_forest } might not be used.\n",
      "\n",
      "  This may not be accurate due to some parameters are only used in language bindings but\n",
      "  passed down to XGBoost core.  Or some parameters are not used but slip through this\n",
      "  verification. Please open an issue if you find above cases.\n",
      "\n",
      "\n",
      "[15:55:33] WARNING: ..\\src\\learner.cc:1061: Starting in XGBoost 1.3.0, the default evaluation metric used with the objective 'binary:logistic' was changed from 'error' to 'logloss'. Explicitly set eval_metric if you'd like to restore the old behavior.\n"
     ]
    },
    {
     "data": {
      "text/plain": [
       "XGBClassifier(base_score=0.5, booster='gbtree', colsample_bylevel=1,\n",
       "              colsample_bynode=1, colsample_bytree=1, gamma=0, gpu_id=-1,\n",
       "              importance_type='gain', interaction_constraints='',\n",
       "              learning_rate=0.300000012, max_delta_step=0, max_depth=5,\n",
       "              min_child_weight=1, missing=nan, monotone_constraints='()',\n",
       "              n_estimators=200, n_jobs=8, num_parallel_tree=1, random_forest=42,\n",
       "              random_state=0, reg_alpha=0, reg_lambda=1, scale_pos_weight=1,\n",
       "              subsample=1, tree_method='exact', validate_parameters=1,\n",
       "              verbosity=None)"
      ]
     },
     "execution_count": 17,
     "metadata": {},
     "output_type": "execute_result"
    }
   ],
   "source": [
    "clf = xgboost.XGBClassifier(n_estimators=200, max_depth=5,random_forest=42)\n",
    "clf.fit(X_train,y_train)"
   ]
  },
  {
   "cell_type": "code",
   "execution_count": 18,
   "metadata": {},
   "outputs": [],
   "source": [
    "explainer = shap.TreeExplainer(clf)\n",
    "shap_values = explainer.shap_values(X_test)"
   ]
  },
  {
   "cell_type": "code",
   "execution_count": 19,
   "metadata": {},
   "outputs": [
    {
     "data": {
      "image/png": "[encoded data removed]",
      "text/plain": [
       "<Figure size 576x684 with 2 Axes>"
      ]
     },
     "metadata": {
      "needs_background": "light"
     },
     "output_type": "display_data"
    }
   ],
   "source": [
    "shap.summary_plot(shap_values, X_test, plot_type='dot')"
   ]
  },
  {
   "cell_type": "markdown",
   "metadata": {},
   "source": [
    "**Task:** Import the `shap` package and construct and use the `TreeExplainer` method to create a `summary_plot` (use the dot representation) for the XGBoost Classifier you just trained.\n",
    "\n",
    "*Note: you will want to use shap_vales instead of shap_values[1] as the first parameter.*"
   ]
  },
  {
   "cell_type": "markdown",
   "metadata": {},
   "source": [
    "**Task:** Reflect on the meaning of the plot.  What does each dot represent?  What do the color of the dots represent?  What is the impact on the model output?"
   ]
  },
  {
   "cell_type": "markdown",
   "metadata": {},
   "source": [
    "**Question 5 (1 pt):** What is the most important feature of the XGBoost Classifier, and what impact does it have on the model output when its' values are high?\n",
    "\n",
    "> a) `grade1`, positive \\\n",
    "> b) `grade1`, negative \\\n",
    "> c) `failures`, positive \\\n",
    "> d) `failures`, negative"
   ]
  },
  {
   "cell_type": "markdown",
   "metadata": {},
   "source": [
    "__Answer__: The most important feature is `grade1`, negative. b) is the correct answer."
   ]
  },
  {
   "cell_type": "markdown",
   "metadata": {},
   "source": [
    "**Task:** Audit the XGBoost model for bias."
   ]
  }
 ],
 "metadata": {
  "kernelspec": {
   "display_name": "Python 3",
   "language": "python",
   "name": "python3"
  },
  "language_info": {
   "codemirror_mode": {
    "name": "ipython",
    "version": 3
   },
   "file_extension": ".py",
   "mimetype": "text/x-python",
   "name": "python",
   "nbconvert_exporter": "python",
   "pygments_lexer": "ipython3",
   "version": "3.8.5"
  }
 },
 "nbformat": 4,
 "nbformat_minor": 4
}
